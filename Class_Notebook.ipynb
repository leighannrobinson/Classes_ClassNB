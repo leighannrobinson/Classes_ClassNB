{
 "cells": [
  {
   "cell_type": "markdown",
   "id": "4ef4485e",
   "metadata": {},
   "source": [
    "# Ch9 Classes"
   ]
  },
  {
   "cell_type": "markdown",
   "id": "7b465366",
   "metadata": {},
   "source": [
    "### Python is an object oriented programming language.\n",
    "- Almost everything in Python is an object, with its properties and methods (Functions).\n",
    "- A Class is like an object constructor, or a \"blueprint\" for creating objects."
   ]
  },
  {
   "cell_type": "code",
   "execution_count": 1,
   "id": "741b88de",
   "metadata": {},
   "outputs": [
    {
     "name": "stdout",
     "output_type": "stream",
     "text": [
      "Angel\n",
      "Hill\n",
      "Employee full name : Angel Hill\n",
      "Employee full name : Peter White\n"
     ]
    }
   ],
   "source": [
    "class Employee():\n",
    "    # init is the constuctor of the class \n",
    "    # self is used to represent the instance of a class \n",
    "    def __init__(self, first, last, age, dept): # method/function\n",
    "        self.first=first.title()\n",
    "        self.last=last.title()\n",
    "        self.age=age\n",
    "        self.dept=dept.title()\n",
    "        \n",
    "    def fullname(self):\n",
    "        return (f\"Employee full name : {self.first} {self.last}\")\n",
    "\n",
    "emp_1=Employee(\"angel\",\"hill\", 32, \"accounting\")\n",
    "emp2=Employee(\"peter\",\"white\", 35, \"finance\")\n",
    "print(emp_1.first)\n",
    "print(emp_1.last)\n",
    "print(emp_1.fullname())\n",
    "print(emp2.fullname())\n",
    "#print(f\"Employee full name : {emp_1.first} {emp_1.last}\")"
   ]
  },
  {
   "cell_type": "markdown",
   "id": "5d60f7c0",
   "metadata": {},
   "source": [
    "### Creating the Dog Class\n",
    "Each instance created from the Dog class will store a name and an age, and we’ll give each dog the ability to sit() and roll_over():"
   ]
  },
  {
   "cell_type": "code",
   "execution_count": 2,
   "id": "6e84155c",
   "metadata": {},
   "outputs": [],
   "source": [
    "class Dog():\n",
    "    def __init__(self, name, age):\n",
    "        self.name=name\n",
    "        self.age=age\n",
    "        \n",
    "    def sit(self):\n",
    "        print(f\"{self.name} is now sitting\")\n",
    "    def roll_over(self):\n",
    "        print(f\"{self.name} is now rolling over\")"
   ]
  },
  {
   "cell_type": "code",
   "execution_count": 3,
   "id": "3c70e9c0",
   "metadata": {},
   "outputs": [
    {
     "name": "stdout",
     "output_type": "stream",
     "text": [
      "Shelby\n",
      "5\n",
      "Bradly\n",
      "2\n",
      "Shelby is now sitting\n",
      "Bradly is now rolling over\n"
     ]
    }
   ],
   "source": [
    "dog1=Dog(\"Shelby\",5)\n",
    "dog2=Dog(\"Bradly\",2)\n",
    "print(dog1.name)\n",
    "print(dog1.age)\n",
    "print(dog2.name)\n",
    "print(dog2.age)\n",
    "dog1.sit()\n",
    "dog2.roll_over()"
   ]
  },
  {
   "cell_type": "markdown",
   "id": "8bbcc5c0",
   "metadata": {},
   "source": [
    "#### Note:\n",
    "- By convention, capitalized names refer to classes in Python. \n",
    "- The parentheses in the class definition are empty because we’re creating this class from scratch.\n",
    "- All classes have a function called __init__(), which is always executed when the class is being initiated.\n",
    "- Use the __init__() function to assign values to object properties, or other operations that are necessary to do when the object is being created\n",
    "- Any variable prefixed with `self` is available to every method in the class, and we’ll also be able to access these variables through any instance created from the class.\n",
    "- The Dog class has two other methods defined: sit() and roll_over().Because these methods don’t need additional information like a name or age, we just define them to have one parameter, self."
   ]
  },
  {
   "cell_type": "markdown",
   "id": "402f0696",
   "metadata": {},
   "source": [
    "### Restaurant: Make a class called Restaurant. The __init__() method for Restaurant should store two attributes: a restaurant_name and a cuisine_type.\n",
    "- Make a method called `describe_restaurant()` that prints name of teh restrurent and the cuisine type\n",
    "- and a method called open_restaurant() that prints a message indicating that the restaurant is open.\n",
    "- Make an instance called restaurant from your class. Print the two attributes individually, and then call both methods.\n"
   ]
  },
  {
   "cell_type": "code",
   "execution_count": 4,
   "id": "c4316b2d",
   "metadata": {},
   "outputs": [],
   "source": [
    "class Restaurant():\n",
    "    def __init__(self, name, cuisine_type ):\n",
    "        self.name=name.title()\n",
    "        self.cuisine_type=cuisine_type\n",
    "        \n",
    "    def describe_restaurant(self):\n",
    "        print(f\"The name of the restaurant is {self.name} and it serves great {self.cuisine_type}.\")\n",
    "    def open_restaurant(self):\n",
    "        print(f\"{self.name} is open! Come in!\")"
   ]
  },
  {
   "cell_type": "code",
   "execution_count": 5,
   "id": "ef8f7ec9",
   "metadata": {},
   "outputs": [
    {
     "name": "stdout",
     "output_type": "stream",
     "text": [
      "The name of the restaurant is Wicks and it serves great pizza.\n",
      "Wicks is open! Come in!\n",
      "The name of the restaurant is 80/20 Kaelins and it serves great burgers.\n",
      "80/20 Kaelins is open! Come in!\n",
      "The name of the restaurant is Saki Blue and it serves great sushi.\n",
      "Saki Blue is open! Come in!\n"
     ]
    }
   ],
   "source": [
    "rest1=Restaurant(\"Wicks\", \"pizza\")\n",
    "rest2=Restaurant(\"80/20 Kaelins\", \"burgers\")\n",
    "rest3=Restaurant(\"Saki Blue\", \"sushi\")\n",
    "rest1.describe_restaurant()\n",
    "rest1.open_restaurant()\n",
    "rest2.describe_restaurant()\n",
    "rest2.open_restaurant()\n",
    "rest3.describe_restaurant()\n",
    "rest3.open_restaurant()"
   ]
  },
  {
   "cell_type": "markdown",
   "id": "8b4a4fca",
   "metadata": {},
   "source": [
    "### - Create three different instances from the class, and call describe_restaurant() for each instance."
   ]
  },
  {
   "cell_type": "code",
   "execution_count": 6,
   "id": "f9be3f46",
   "metadata": {},
   "outputs": [
    {
     "name": "stdout",
     "output_type": "stream",
     "text": [
      "The name of the restaurant is Wicks and it serves great pizza.\n",
      "The name of the restaurant is 80/20 Kaelins and it serves great burgers.\n",
      "The name of the restaurant is Saki Blue and it serves great sushi.\n"
     ]
    }
   ],
   "source": [
    "rest1=Restaurant(\"Wicks\", \"pizza\")\n",
    "rest2=Restaurant(\"80/20 Kaelins\", \"burgers\")\n",
    "rest3=Restaurant(\"Saki Blue\", \"sushi\")\n",
    "rest1.describe_restaurant()\n",
    "rest2.describe_restaurant()\n",
    "rest3.describe_restaurant()"
   ]
  },
  {
   "cell_type": "markdown",
   "id": "8f4032c6",
   "metadata": {},
   "source": [
    "### Users: Make a class called User. Create attributes called first_name and last_name, username, location \n",
    "- Make a method called describe_user() that prints a summary of the user’s information. \n",
    "- Make another method called greet_user() that prints a personalized greeting to the user.\n",
    "- Create several instances representing different users, and call both methods for each user."
   ]
  },
  {
   "cell_type": "code",
   "execution_count": 7,
   "id": "b589412f",
   "metadata": {},
   "outputs": [],
   "source": [
    "class User():\n",
    "    def __init__(self, first, last, username, location):\n",
    "        self.first = first.title()\n",
    "        self.last = last.title()\n",
    "        self.username = username\n",
    "        self.location = location.title()\n",
    "\n",
    "    def describe_user(self):\n",
    "        print(f\"{self.first} {self.last}\")\n",
    "        print(f\"Username: {self.username}\")\n",
    "        print(f\"Location: {self.location}\")\n",
    "\n",
    "    def greet_user(self):\n",
    "        print(f\"Welcome back, {self.username}!\")"
   ]
  },
  {
   "cell_type": "code",
   "execution_count": 8,
   "id": "63d7a78f",
   "metadata": {},
   "outputs": [
    {
     "name": "stdout",
     "output_type": "stream",
     "text": [
      "Adam Jones\n",
      "Username: ajones\n",
      "Location: Chicago\n",
      "Welcome back, ajones!\n",
      "Skylar Miles\n",
      "Username: skylarmiles\n",
      "Location: Louisville\n",
      "Welcome back, skylarmiles!\n"
     ]
    }
   ],
   "source": [
    "adam = User('adam', 'jones', 'ajones', 'chicago')\n",
    "adam.describe_user()\n",
    "adam.greet_user()\n",
    "skylar = User('skylar', 'miles', 'skylarmiles', 'louisville')\n",
    "skylar.describe_user()\n",
    "skylar.greet_user()"
   ]
  },
  {
   "cell_type": "markdown",
   "id": "8b5bfff2",
   "metadata": {},
   "source": [
    "## Setting a Default Value for an Attribute"
   ]
  },
  {
   "cell_type": "code",
   "execution_count": 9,
   "id": "bbdc7a10",
   "metadata": {},
   "outputs": [],
   "source": [
    "class car():\n",
    "    def __init__(self, make, model, year):\n",
    "        self.make=make\n",
    "        self.model=model\n",
    "        self.year=year\n",
    "        self.odometer_reading=100\n",
    "        \n",
    "    def get_descriptive_name(self):\n",
    "        long_name= str(self.year) + \" \" + self.make + \" \" + self.model\n",
    "        return long_name.title()\n",
    "    \n",
    "    def read_odometer(self):\n",
    "        print(f\"This car has {self.odometer_reading} miles on it\")\n",
    "        \n",
    "    def update_odometer(self, mileage):\n",
    "        self.odometer_reading+=mileage"
   ]
  },
  {
   "cell_type": "code",
   "execution_count": 10,
   "id": "35859896",
   "metadata": {},
   "outputs": [
    {
     "data": {
      "text/plain": [
       "'2020 Nissan Rouge'"
      ]
     },
     "execution_count": 10,
     "metadata": {},
     "output_type": "execute_result"
    }
   ],
   "source": [
    "my_car=car(\"Nissan\", \"Rouge\", 2020)\n",
    "my_car.get_descriptive_name()"
   ]
  },
  {
   "cell_type": "code",
   "execution_count": 11,
   "id": "9ea6316b",
   "metadata": {},
   "outputs": [
    {
     "name": "stdout",
     "output_type": "stream",
     "text": [
      "This car has 100 miles on it\n"
     ]
    }
   ],
   "source": [
    "my_car.read_odometer()"
   ]
  },
  {
   "cell_type": "code",
   "execution_count": 12,
   "id": "b8db6cf0",
   "metadata": {},
   "outputs": [],
   "source": [
    "my_car.update_odometer(40)"
   ]
  },
  {
   "cell_type": "code",
   "execution_count": 13,
   "id": "be3a6edf",
   "metadata": {},
   "outputs": [
    {
     "name": "stdout",
     "output_type": "stream",
     "text": [
      "This car has 140 miles on it\n"
     ]
    }
   ],
   "source": [
    "my_car.read_odometer()"
   ]
  },
  {
   "cell_type": "markdown",
   "id": "3f840f3e",
   "metadata": {},
   "source": [
    "#### Modifying an Attribute’s Value Directly"
   ]
  },
  {
   "cell_type": "code",
   "execution_count": null,
   "id": "6f8fa540",
   "metadata": {},
   "outputs": [],
   "source": []
  },
  {
   "cell_type": "code",
   "execution_count": null,
   "id": "2f382418",
   "metadata": {},
   "outputs": [],
   "source": []
  },
  {
   "cell_type": "markdown",
   "id": "27f8f244",
   "metadata": {},
   "source": [
    "### Modifying an Attribute’s Value Through a Method"
   ]
  },
  {
   "cell_type": "code",
   "execution_count": null,
   "id": "9b3ae956",
   "metadata": {},
   "outputs": [],
   "source": []
  },
  {
   "cell_type": "code",
   "execution_count": null,
   "id": "3c3c57c2",
   "metadata": {},
   "outputs": [],
   "source": []
  },
  {
   "cell_type": "markdown",
   "id": "fd560131",
   "metadata": {},
   "source": [
    "### Incrementing an Attribute’s Value Through a Method"
   ]
  },
  {
   "cell_type": "code",
   "execution_count": null,
   "id": "8d76b884",
   "metadata": {},
   "outputs": [],
   "source": []
  },
  {
   "cell_type": "code",
   "execution_count": null,
   "id": "1500c7e7",
   "metadata": {},
   "outputs": [],
   "source": []
  },
  {
   "cell_type": "markdown",
   "id": "b96f0d18",
   "metadata": {},
   "source": [
    "# Inheritance\n",
    "- You don’t always have to start from scratch when writing a class. If the class you’re writing is a specialized version of another class you wrote, you can use inheritance. \n",
    "- When one class inherits from another, it automatically takes on all the attributes and methods of the first class. The original class is called the `parent class`, and the new class is the `child class`. \n",
    "- The child class inherits every attribute and method from its parent class but is also free to define new attributes and methods of its own."
   ]
  },
  {
   "cell_type": "markdown",
   "id": "3813e219",
   "metadata": {},
   "source": [
    "### parent class"
   ]
  },
  {
   "cell_type": "code",
   "execution_count": 14,
   "id": "5b7c3efd",
   "metadata": {},
   "outputs": [],
   "source": [
    "class car():\n",
    "    def __init__(self, make, model, year):\n",
    "        self.make=make\n",
    "        self.model=model\n",
    "        self.year=year\n",
    "        self.odometer_reading=100\n",
    "        \n",
    "    def get_descriptive_name(self):\n",
    "        long_name= str(self.year) + \" \" + self.make + \" \" + self.model\n",
    "        return long_name.title()\n",
    "    \n",
    "    def read_odometer(self):\n",
    "        print(f\"This car has {self.odometer_reading} miles on it\")\n",
    "        \n",
    "    def update_odometer(self, mileage):\n",
    "        self.odometer_reading+=mileage"
   ]
  },
  {
   "cell_type": "markdown",
   "id": "335f97f9",
   "metadata": {},
   "source": [
    "### child class"
   ]
  },
  {
   "cell_type": "code",
   "execution_count": 15,
   "id": "0c0e975a",
   "metadata": {},
   "outputs": [],
   "source": [
    "class ElectricCar(car):\n",
    "    def __init__(self, make, model, year):\n",
    "        super().__init__(make, model, year) # inherit the parent class attributes "
   ]
  },
  {
   "cell_type": "code",
   "execution_count": 16,
   "id": "34de9649",
   "metadata": {},
   "outputs": [
    {
     "name": "stdout",
     "output_type": "stream",
     "text": [
      "2021 Tesla X\n"
     ]
    }
   ],
   "source": [
    "My_Tesla=ElectricCar(\"Tesla\", \"X\", 2021)\n",
    "print(My_Tesla.get_descriptive_name())"
   ]
  },
  {
   "cell_type": "markdown",
   "id": "5b594c20",
   "metadata": {},
   "source": [
    "### Practice: Create a class named Person, with firstname and lastname properties, and a printname method:"
   ]
  },
  {
   "cell_type": "code",
   "execution_count": 17,
   "id": "681edaaf",
   "metadata": {},
   "outputs": [],
   "source": [
    "class Person():\n",
    "    def __init__(self, firstname, lastname):\n",
    "        self.firstname=firstname.title()\n",
    "        self.lastname=lastname.title()\n",
    "    \n",
    "    def printname(self):\n",
    "        print(f\"Full name: {self.firstname} {self.lastname}\")"
   ]
  },
  {
   "cell_type": "code",
   "execution_count": 18,
   "id": "9d3a0e56",
   "metadata": {},
   "outputs": [
    {
     "name": "stdout",
     "output_type": "stream",
     "text": [
      "Full name: John Smith\n"
     ]
    }
   ],
   "source": [
    "person1=Person(\"john\", \"smith\")\n",
    "person1.printname()"
   ]
  },
  {
   "cell_type": "code",
   "execution_count": 19,
   "id": "b75d7a0a",
   "metadata": {},
   "outputs": [
    {
     "name": "stdout",
     "output_type": "stream",
     "text": [
      "Full name: Leighann Robinson\n"
     ]
    }
   ],
   "source": [
    "person2=Person(\"leighann\", \"robinson\")\n",
    "person2.printname()"
   ]
  },
  {
   "cell_type": "markdown",
   "id": "a8023470",
   "metadata": {},
   "source": [
    "### Create child classes called Student using Inheritance contains the first and last name and the graduation year \n",
    "- Add a method called `welcome` that prints the student graduation year\n",
    "- Test the student method for two students"
   ]
  },
  {
   "cell_type": "code",
   "execution_count": 20,
   "id": "8a1571d5",
   "metadata": {},
   "outputs": [],
   "source": [
    "class Student(Person):\n",
    "    def __init__(self, firstname, lastname, gradyear):\n",
    "        super().__init__(firstname, lastname)\n",
    "        self.gradyear=gradyear\n",
    "    \n",
    "    def welcome(self):\n",
    "        print(f\"Welcome, {self.firstname} {self.lastname} to the class of {self.gradyear}\")"
   ]
  },
  {
   "cell_type": "code",
   "execution_count": 21,
   "id": "5816f6a4",
   "metadata": {},
   "outputs": [
    {
     "name": "stdout",
     "output_type": "stream",
     "text": [
      "Welcome, Richard Olsen to the class of 2025\n"
     ]
    }
   ],
   "source": [
    "student1=Student(\"Richard\", \"Olsen\", 2025)\n",
    "student1.welcome()"
   ]
  },
  {
   "cell_type": "code",
   "execution_count": 22,
   "id": "a928ee9f",
   "metadata": {},
   "outputs": [
    {
     "name": "stdout",
     "output_type": "stream",
     "text": [
      "Welcome, Leighann Robinson to the class of 2024\n"
     ]
    }
   ],
   "source": [
    "student2=Student(\"Leighann\", \"Robinson\", 2024)\n",
    "student2.welcome()"
   ]
  },
  {
   "cell_type": "markdown",
   "id": "0796e373",
   "metadata": {},
   "source": [
    "## Create rectangle (length and width) and square (length) classes and create methods for calculating area and perimeter"
   ]
  },
  {
   "cell_type": "code",
   "execution_count": 23,
   "id": "a6dfdc8c",
   "metadata": {},
   "outputs": [],
   "source": [
    "class Rectangle():\n",
    "    def __init__(self, length, width):\n",
    "        self.length=length\n",
    "        self.width=width\n",
    "        \n",
    "    def area_rect(self):\n",
    "        return self.length*self.width\n",
    "    def peri_rect(self):\n",
    "        return 2*(self.length+self.width)\n",
    "              \n",
    "class Square():\n",
    "    def __init__(self, length):\n",
    "        self.length=length\n",
    "    def area_square(self):\n",
    "        return self.length**2\n",
    "    def peri_square(self):\n",
    "        return self.length*4"
   ]
  },
  {
   "cell_type": "code",
   "execution_count": 24,
   "id": "a2146898",
   "metadata": {},
   "outputs": [
    {
     "name": "stdout",
     "output_type": "stream",
     "text": [
      "16\n",
      "16\n"
     ]
    }
   ],
   "source": [
    "square = Square(4)\n",
    "print(square.area_square())\n",
    "print(square.peri_square())"
   ]
  },
  {
   "cell_type": "code",
   "execution_count": 25,
   "id": "a14bf86f",
   "metadata": {},
   "outputs": [
    {
     "data": {
      "text/plain": [
       "8"
      ]
     },
     "execution_count": 25,
     "metadata": {},
     "output_type": "execute_result"
    }
   ],
   "source": [
    "rectangle = Rectangle(2,4)\n",
    "rectangle.area_rect()\n"
   ]
  },
  {
   "cell_type": "code",
   "execution_count": 26,
   "id": "7b847e58",
   "metadata": {},
   "outputs": [
    {
     "data": {
      "text/plain": [
       "12"
      ]
     },
     "execution_count": 26,
     "metadata": {},
     "output_type": "execute_result"
    }
   ],
   "source": [
    "rectangle.peri_rect()"
   ]
  },
  {
   "cell_type": "markdown",
   "id": "6833e1f7",
   "metadata": {},
   "source": [
    "## Use inheritance to create the square class from parent class rectangle"
   ]
  },
  {
   "cell_type": "code",
   "execution_count": 27,
   "id": "cc51b5f1",
   "metadata": {},
   "outputs": [],
   "source": [
    "class rectangle():\n",
    "    def __init__(self, length, width):\n",
    "        self.length=length\n",
    "        self.width=width\n",
    "        \n",
    "    def area(self):\n",
    "        return self.length*self.width\n",
    "    def perimeter(self):\n",
    "        return 2*(self.length+self.width)\n",
    "\n",
    "class square2(rectangle):\n",
    "    def __init__(self,length):\n",
    "        super().__init__(length,length)"
   ]
  },
  {
   "cell_type": "code",
   "execution_count": 28,
   "id": "e0f51c87",
   "metadata": {},
   "outputs": [
    {
     "data": {
      "text/plain": [
       "25"
      ]
     },
     "execution_count": 28,
     "metadata": {},
     "output_type": "execute_result"
    }
   ],
   "source": [
    "square2 = square2(5)\n",
    "square2.area()"
   ]
  },
  {
   "cell_type": "markdown",
   "id": "3bdcfd1c",
   "metadata": {},
   "source": [
    "## Create a simple calculator using classes"
   ]
  },
  {
   "cell_type": "code",
   "execution_count": 29,
   "id": "1f391bb2",
   "metadata": {},
   "outputs": [
    {
     "name": "stdout",
     "output_type": "stream",
     "text": [
      "Choose from the following menu: \n",
      "1. Addition\n",
      "2. Subtraction\n",
      "3. Multiplication\n",
      "4. Division\n",
      "5. Exit\n",
      "Enter your choice (1-5): 2\n",
      "Enter 1st number: 97\n",
      "Enter 2nd number: 46\n",
      "Subtraction = 51\n",
      "Choose from the following menu: \n",
      "1. Addition\n",
      "2. Subtraction\n",
      "3. Multiplication\n",
      "4. Division\n",
      "5. Exit\n",
      "Enter your choice (1-5): 4\n",
      "Enter 1st number: 12\n",
      "Enter 2nd number: 3\n",
      "Division = 4.0\n",
      "Choose from the following menu: \n",
      "1. Addition\n",
      "2. Subtraction\n",
      "3. Multiplication\n",
      "4. Division\n",
      "5. Exit\n",
      "Enter your choice (1-5): 5\n"
     ]
    }
   ],
   "source": [
    "class calc():\n",
    "    def __init__(self, input1, input2):\n",
    "        self.input1=input1\n",
    "        self.input2=input2\n",
    "    \n",
    "    def addition(num1,num2):\n",
    "        print(f\"Addition = {num1+num2}\")\n",
    "    def subtraction(num1,num2):\n",
    "        print(f\"Subtraction = {num1-num2}\")\n",
    "    def multiplication(num1,num2):\n",
    "        print(f\"Multiplication = {num1*num2}\")\n",
    "    def division(num1,num2):\n",
    "        print(f\"Division = {num1/num2}\")\n",
    "    \n",
    "while True: \n",
    "    print(\"Choose from the following menu: \")\n",
    "    print(\"1. Addition\")\n",
    "    print(\"2. Subtraction\")\n",
    "    print(\"3. Multiplication\")\n",
    "    print(\"4. Division\")\n",
    "    print(\"5. Exit\")\n",
    "    \n",
    "    choice=int(input(\"Enter your choice (1-5): \"))\n",
    "    \n",
    "    if choice==1:\n",
    "        num1=int(input(\"Enter 1st number: \"))\n",
    "        num2=int(input(\"Enter 2nd number: \"))\n",
    "        calc.addition(num1,num2)\n",
    "    elif choice==2:\n",
    "        num1=int(input(\"Enter 1st number: \"))\n",
    "        num2=int(input(\"Enter 2nd number: \"))\n",
    "        calc.subtraction(num1,num2)\n",
    "    elif choice==3:\n",
    "        num1=int(input(\"Enter 1st number: \"))\n",
    "        num2=int(input(\"Enter 2nd number: \"))\n",
    "        calc.multiplication(num1,num2)\n",
    "    elif choice==4:\n",
    "        num1=int(input(\"Enter 1st number: \"))\n",
    "        num2=int(input(\"Enter 2nd number: \"))\n",
    "        if num2==0:\n",
    "            print(\"Infinity\")\n",
    "        else:\n",
    "            calc.division(num1,num2)\n",
    "    elif choice==5:\n",
    "        break\n",
    "    else: \n",
    "        print(\"Invalid choice\")"
   ]
  },
  {
   "cell_type": "markdown",
   "id": "0ec161b5",
   "metadata": {},
   "source": [
    "## ATM machine "
   ]
  },
  {
   "cell_type": "code",
   "execution_count": 30,
   "id": "267c3e25",
   "metadata": {},
   "outputs": [],
   "source": [
    "class ATM():\n",
    "    def __init__(self):\n",
    "        self.balance=0\n",
    "        print(\"Hello! Welcome to the ATM Machine\")\n",
    "    \n",
    "    def deposit(self):\n",
    "        amount=float(input(\"Enter amount to be deposited: \"))\n",
    "        self.balance+=amount\n",
    "        print(\"The amount deposited: \", amount)\n",
    "    def withdraw(self):\n",
    "        amount=float(input(\"Enter amount to be withdrawn: \"))\n",
    "        if self.balance>=amount:\n",
    "            self.balance-=amount\n",
    "            print(\"The amount withdrawn: \", amount)\n",
    "        else:\n",
    "            print(\"insufficient funds\")\n",
    "    def display(self):\n",
    "        print(\"The available balance is \", self.balance)"
   ]
  },
  {
   "cell_type": "code",
   "execution_count": 31,
   "id": "a6e40459",
   "metadata": {},
   "outputs": [
    {
     "name": "stdout",
     "output_type": "stream",
     "text": [
      "Hello! Welcome to the ATM Machine\n",
      "Enter amount to be deposited: 1000\n",
      "The amount deposited:  1000.0\n"
     ]
    }
   ],
   "source": [
    "my_account=ATM()\n",
    "my_account.deposit()"
   ]
  },
  {
   "cell_type": "code",
   "execution_count": 32,
   "id": "da728ba9",
   "metadata": {},
   "outputs": [
    {
     "name": "stdout",
     "output_type": "stream",
     "text": [
      "The available balance is  1000.0\n"
     ]
    }
   ],
   "source": [
    "my_account.display()"
   ]
  },
  {
   "cell_type": "code",
   "execution_count": 33,
   "id": "5349965d",
   "metadata": {},
   "outputs": [
    {
     "name": "stdout",
     "output_type": "stream",
     "text": [
      "Enter amount to be deposited: 500\n",
      "The amount deposited:  500.0\n"
     ]
    }
   ],
   "source": [
    "my_account.deposit()"
   ]
  },
  {
   "cell_type": "code",
   "execution_count": 34,
   "id": "8f47f843",
   "metadata": {},
   "outputs": [
    {
     "name": "stdout",
     "output_type": "stream",
     "text": [
      "The available balance is  1500.0\n"
     ]
    }
   ],
   "source": [
    "my_account.display()"
   ]
  },
  {
   "cell_type": "code",
   "execution_count": 35,
   "id": "2b5dc39e",
   "metadata": {},
   "outputs": [
    {
     "name": "stdout",
     "output_type": "stream",
     "text": [
      "Enter amount to be withdrawn: 300\n",
      "The amount withdrawn:  300.0\n"
     ]
    }
   ],
   "source": [
    "my_account.withdraw()"
   ]
  },
  {
   "cell_type": "code",
   "execution_count": 36,
   "id": "b864410a",
   "metadata": {},
   "outputs": [
    {
     "name": "stdout",
     "output_type": "stream",
     "text": [
      "The available balance is  1200.0\n"
     ]
    }
   ],
   "source": [
    "my_account.display()"
   ]
  },
  {
   "cell_type": "code",
   "execution_count": 37,
   "id": "8078d68c",
   "metadata": {},
   "outputs": [
    {
     "name": "stdout",
     "output_type": "stream",
     "text": [
      "Enter amount to be withdrawn: 1300\n",
      "insufficient funds\n"
     ]
    }
   ],
   "source": [
    "my_account.withdraw()"
   ]
  }
 ],
 "metadata": {
  "kernelspec": {
   "display_name": "Python 3 (ipykernel)",
   "language": "python",
   "name": "python3"
  },
  "language_info": {
   "codemirror_mode": {
    "name": "ipython",
    "version": 3
   },
   "file_extension": ".py",
   "mimetype": "text/x-python",
   "name": "python",
   "nbconvert_exporter": "python",
   "pygments_lexer": "ipython3",
   "version": "3.9.12"
  }
 },
 "nbformat": 4,
 "nbformat_minor": 5
}
